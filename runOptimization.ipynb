{
 "cells": [
  {
   "cell_type": "code",
   "execution_count": 14,
   "metadata": {},
   "outputs": [],
   "source": [
    "# Import necessary libraries for the project\n",
    "from tspPSO import DiscretePSOLK\n",
    "from tspUtilities import readATSPFileMatrix, readSTSPFileMatrix\n",
    "import numpy as np\n",
    "import time\n",
    "\n",
    "from randomgen import SFC64\n",
    "from numpy.random import Generator\n",
    "from pathlib import Path"
   ]
  },
  {
   "cell_type": "code",
   "execution_count": 2,
   "metadata": {},
   "outputs": [],
   "source": [
    "# The data paths to the TSP files used in this project\n",
    "datapathATSP = str(Path.cwd()) + '/ATSP_data/'\n",
    "atspFilePath = datapathATSP + 'ftv33.atsp.gz'\n",
    "\n",
    "datapathSTSP = str(Path.cwd()) + '/STSP_data/'\n",
    "stspFilePath = datapathSTSP + 'pr76.tsp.gz'"
   ]
  },
  {
   "cell_type": "code",
   "execution_count": 3,
   "metadata": {},
   "outputs": [],
   "source": [
    "# create and seed a PRNG\n",
    "seed_sequence = np.random.SeedSequence()\n",
    "seed = seed_sequence.generate_state(10)\n",
    "\n",
    "rgSFC64 = Generator(SFC64(seed, mode='sequence'))"
   ]
  },
  {
   "cell_type": "code",
   "execution_count": 4,
   "metadata": {},
   "outputs": [],
   "source": [
    "# get the data for the ATSP problem and create a PSO class\n",
    "atspDistanceMatrix, atspCities = readATSPFileMatrix(atspFilePath)\n",
    "atspPSO = DiscretePSOLK(atspDistanceMatrix, atspCities, rgSFC64)\n"
   ]
  },
  {
   "cell_type": "code",
   "execution_count": 15,
   "metadata": {},
   "outputs": [
    {
     "name": "stdout",
     "output_type": "stream",
     "text": [
      "Iteration: 0, Best Cost: 4121, probs: 0.9,0.05,0.05\n",
      "Iteration: 50, Best Cost: 2717, probs: 0.06925047774904183,0.08223159109219412,0.8485179311587641\n",
      "Iteration: 0, Best Cost: 3970, probs: 0.9,0.05,0.05\n",
      "Iteration: 50, Best Cost: 2730, probs: 0.06925047774904183,0.08223159109219412,0.8485179311587641\n",
      "Iteration: 0, Best Cost: 4154, probs: 0.9,0.05,0.05\n",
      "Iteration: 50, Best Cost: 2730, probs: 0.06925047774904183,0.08223159109219412,0.8485179311587641\n"
     ]
    }
   ],
   "source": [
    "# Run the PSO algorithm for 3 runs\n",
    "nParticles = 20\n",
    "pr1 = 0.9\n",
    "pr2 = 0.05\n",
    "pr3 = 0.05\n",
    "lpr1 = 0.95\n",
    "lpr2 = 1.01\n",
    "maxIterations = 80\n",
    "maxMoves = None\n",
    "\n",
    "# save results\n",
    "solutionSpaceATSP = {}\n",
    "\n",
    "# run multiple batches to get average results\n",
    "start = time.time()\n",
    "for n in range(3):\n",
    "    optimalSolutionATSP = atspPSO.runPSO(nParticles, pr1, pr2, pr3, lpr1, lpr2, maxIterations, maxMoves)\n",
    "    end = time.time()\n",
    "    solutionSpaceATSP[n] = (optimalSolutionATSP, end-start)\n",
    "    start = end"
   ]
  },
  {
   "cell_type": "code",
   "execution_count": 9,
   "metadata": {},
   "outputs": [],
   "source": [
    "# Create the STSP data and initialize the PSO algorithm\n",
    "stspDistanceMatrix, stspCities = readSTSPFileMatrix(stspFilePath)\n",
    "stspPSO = DiscretePSOLK(stspDistanceMatrix, stspCities, rgSFC64)"
   ]
  },
  {
   "cell_type": "code",
   "execution_count": 10,
   "metadata": {},
   "outputs": [
    {
     "name": "stdout",
     "output_type": "stream",
     "text": [
      "Iteration: 0, Best Cost: 556015.0, probs: 0.9,0.05,0.05\n",
      "Iteration: 50, Best Cost: 151601.0, probs: 0.06925047774904183,0.08223159109219412,0.8485179311587641\n",
      "Iteration: 100, Best Cost: 151601.0, probs: 0.005328476298300597,0.13524069147107637,0.859430832230623\n",
      "Iteration: 150, Best Cost: 151601.0, probs: 0.0004099994770352914,0.22242114480150282,0.7771688557214619\n",
      "Iteration: 0, Best Cost: 532250.0, probs: 0.9,0.05,0.05\n",
      "Iteration: 50, Best Cost: 152443.0, probs: 0.06925047774904183,0.08223159109219412,0.8485179311587641\n",
      "Iteration: 100, Best Cost: 152443.0, probs: 0.005328476298300597,0.13524069147107637,0.859430832230623\n",
      "Iteration: 150, Best Cost: 152443.0, probs: 0.0004099994770352914,0.22242114480150282,0.7771688557214619\n",
      "Iteration: 0, Best Cost: 547126.0, probs: 0.9,0.05,0.05\n",
      "Iteration: 50, Best Cost: 153622.0, probs: 0.06925047774904183,0.08223159109219412,0.8485179311587641\n",
      "Iteration: 100, Best Cost: 153622.0, probs: 0.005328476298300597,0.13524069147107637,0.859430832230623\n",
      "Iteration: 150, Best Cost: 153622.0, probs: 0.0004099994770352914,0.22242114480150282,0.7771688557214619\n"
     ]
    }
   ],
   "source": [
    "# Run the PSO algorithm on the STSP dataset\n",
    "nParticles = 20\n",
    "pr1 = 0.9\n",
    "pr2 = 0.05\n",
    "pr3 = 0.05\n",
    "lpr1 = 0.95\n",
    "lpr2 = 1.01\n",
    "maxIterations = 200\n",
    "maxMoves = None\n",
    "\n",
    "# save results\n",
    "solutionSpaceSTSP = {}\n",
    "\n",
    "# run in batches to get average results\n",
    "start = time.time()\n",
    "for n in range(3):\n",
    "    optimalSolutionSTSP = stspPSO.runPSO(nParticles, pr1, pr2, pr3, lpr1, lpr2, maxIterations, maxMoves)\n",
    "    end = time.time()\n",
    "    solutionSpaceSTSP[n] = (optimalSolutionSTSP, end-start)\n",
    "    start = end"
   ]
  },
  {
   "cell_type": "code",
   "execution_count": 11,
   "metadata": {},
   "outputs": [],
   "source": [
    "# save run metrics to respective lists\n",
    "STSPCosts = []\n",
    "STSPTimes = []\n",
    "ATSPCosts = []\n",
    "ATSPTimes = []\n",
    "for key, value in solutionSpaceSTSP.items():\n",
    "    STSPCosts.append(stspPSO.pathCost(value[0]))\n",
    "    STSPTimes.append(value[1])\n",
    "\n",
    "for key, value in solutionSpaceATSP.items():\n",
    "    ATSPCosts.append(atspPSO.pathCost(value[0]))\n",
    "    ATSPTimes.append(value[1])"
   ]
  },
  {
   "cell_type": "code",
   "execution_count": 16,
   "metadata": {},
   "outputs": [
    {
     "name": "stdout",
     "output_type": "stream",
     "text": [
      "ATSP best solution: 2717\n",
      "ATSP worst solution:  2730\n",
      "Average run time:  9.350502411524454\n",
      "-----\n",
      "STSP best solution:  151601.0\n",
      "STSP worst solution:  153622.0\n",
      "Average run time:  44.10186147689819\n"
     ]
    }
   ],
   "source": [
    "#print(min(STSPCosts))\n",
    "print(\"ATSP best solution:\", min(ATSPCosts))\n",
    "print(\"ATSP worst solution: \", max(ATSPCosts))\n",
    "print(\"Average run time (s): \", np.mean(ATSPTimes))\n",
    "print('-----')\n",
    "print('STSP best solution: ', min(STSPCosts))\n",
    "print('STSP worst solution: ', max(STSPCosts))\n",
    "print('Average run time (s): ', np.mean(STSPTimes))"
   ]
  }
 ],
 "metadata": {
  "kernelspec": {
   "display_name": "Python 3",
   "language": "python",
   "name": "python3"
  },
  "language_info": {
   "codemirror_mode": {
    "name": "ipython",
    "version": 3
   },
   "file_extension": ".py",
   "mimetype": "text/x-python",
   "name": "python",
   "nbconvert_exporter": "python",
   "pygments_lexer": "ipython3",
   "version": "3.7.1"
  }
 },
 "nbformat": 4,
 "nbformat_minor": 2
}
